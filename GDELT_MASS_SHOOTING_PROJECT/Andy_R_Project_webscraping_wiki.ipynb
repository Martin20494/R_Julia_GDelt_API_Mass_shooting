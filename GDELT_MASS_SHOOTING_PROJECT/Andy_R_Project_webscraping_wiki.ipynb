{
 "cells": [
  {
   "cell_type": "code",
   "execution_count": 1,
   "metadata": {
    "scrolled": true
   },
   "outputs": [
    {
     "name": "stderr",
     "output_type": "stream",
     "text": [
      "\n",
      "Attaching package: ‘purrr’\n",
      "\n",
      "\n",
      "The following object is masked from ‘package:magrittr’:\n",
      "\n",
      "    set_names\n",
      "\n",
      "\n",
      "Loading required package: xml2\n",
      "\n",
      "\n",
      "Attaching package: ‘rvest’\n",
      "\n",
      "\n",
      "The following object is masked from ‘package:purrr’:\n",
      "\n",
      "    pluck\n",
      "\n",
      "\n",
      "── \u001b[1mAttaching packages\u001b[22m ─────────────────────────────────────── tidyverse 1.3.0 ──\n",
      "\n",
      "\u001b[32m✔\u001b[39m \u001b[34mggplot2\u001b[39m 3.3.2          \u001b[32m✔\u001b[39m \u001b[34mreadr  \u001b[39m 1.3.1     \n",
      "\u001b[32m✔\u001b[39m \u001b[34mtibble \u001b[39m 3.0.3          \u001b[32m✔\u001b[39m \u001b[34mdplyr  \u001b[39m 1.0.2.\u001b[31m9000\u001b[39m\n",
      "\u001b[32m✔\u001b[39m \u001b[34mtidyr  \u001b[39m 1.1.2          \u001b[32m✔\u001b[39m \u001b[34mforcats\u001b[39m 0.5.0     \n",
      "\n",
      "── \u001b[1mConflicts\u001b[22m ────────────────────────────────────────── tidyverse_conflicts() ──\n",
      "\u001b[31m✖\u001b[39m \u001b[34mggplot2\u001b[39m::\u001b[32m%+%()\u001b[39m          masks \u001b[34mqdapRegex\u001b[39m::%+%()\n",
      "\u001b[31m✖\u001b[39m \u001b[34mdplyr\u001b[39m::\u001b[32mcollapse()\u001b[39m       masks \u001b[34mglue\u001b[39m::collapse()\n",
      "\u001b[31m✖\u001b[39m \u001b[34mdplyr\u001b[39m::\u001b[32mexplain()\u001b[39m        masks \u001b[34mqdapRegex\u001b[39m::explain()\n",
      "\u001b[31m✖\u001b[39m \u001b[34mtidyr\u001b[39m::\u001b[32mextract()\u001b[39m        masks \u001b[34mmagrittr\u001b[39m::extract()\n",
      "\u001b[31m✖\u001b[39m \u001b[34mdplyr\u001b[39m::\u001b[32mfilter()\u001b[39m         masks \u001b[34mstats\u001b[39m::filter()\n",
      "\u001b[31m✖\u001b[39m \u001b[34mreadr\u001b[39m::\u001b[32mguess_encoding()\u001b[39m masks \u001b[34mrvest\u001b[39m::guess_encoding()\n",
      "\u001b[31m✖\u001b[39m \u001b[34mdplyr\u001b[39m::\u001b[32mlag()\u001b[39m            masks \u001b[34mstats\u001b[39m::lag()\n",
      "\u001b[31m✖\u001b[39m \u001b[34mrvest\u001b[39m::\u001b[32mpluck()\u001b[39m          masks \u001b[34mpurrr\u001b[39m::pluck()\n",
      "\u001b[31m✖\u001b[39m \u001b[34mpurrr\u001b[39m::\u001b[32mset_names()\u001b[39m      masks \u001b[34mmagrittr\u001b[39m::set_names()\n",
      "\n",
      "\n",
      "Attaching package: ‘lubridate’\n",
      "\n",
      "\n",
      "The following objects are masked from ‘package:base’:\n",
      "\n",
      "    date, intersect, setdiff, union\n",
      "\n",
      "\n"
     ]
    }
   ],
   "source": [
    "#install.packages(\"magrittr\")\n",
    "#install.packages(\"purrr\")\n",
    "#install.packages(\"glue\")\n",
    "#install.packages(\"stringr\")\n",
    "#install.packages(\"rvest\")\n",
    "#install.packages(\"polite\")\n",
    "#install.packages(\"tidyverse\")\n",
    "#install.packages(\"qdapRegex\")\n",
    "library(qdapRegex)\n",
    "library(magrittr) # better handling of pipes\n",
    "library(purrr) # to work with lists and map functions\n",
    "library(glue) # to paste strings\n",
    "library(stringr) # to hand strings\n",
    "library(rvest) # rvest makes scraping easier\n",
    "library(polite) # polite is the \"polite\" version of rvest\n",
    "library(tidyverse)\n",
    "library(ggplot2)\n",
    "library(lubridate)\n",
    "library(dplyr)"
   ]
  },
  {
   "cell_type": "code",
   "execution_count": 2,
   "metadata": {},
   "outputs": [],
   "source": [
    "# Creating a function to scrape the tables in Wikipedia\n",
    "get_data <- function(year){\n",
    "    Link <- glue(\"https://en.wikipedia.org/wiki/List_of_mass_shootings_in_the_United_States_in_{year}\")\n",
    "    page_title <- read_html(Link)\n",
    "    Date <- page_title %>% html_nodes(\".wikitable.sortable\") %>% html_nodes(\"span\") %>% html_text()\n",
    "    n <- Date %>% as.matrix() %>% nrow()\n",
    "    a <- page_title %>% html_nodes(\".wikitable.sortable\") %>% html_nodes(\"td\") %>% html_text() %>% as.matrix()\n",
    "    Date <- as.vector('')\n",
    "    Location <- as.vector('')\n",
    "    Injured <- as.vector('')\n",
    "    Death <- as.vector('')\n",
    "    Total <- as.vector('')\n",
    "    Des <- as.vector('')\n",
    "    ## split matrix into different vector\n",
    "    for( i in 1:nrow(as.matrix(a))){\n",
    "        if (i %% 6 == 1){\n",
    "            Date[(i%/%6) +1] = a[i]\n",
    "        } else{\n",
    "        if (i %% 6 == 2){\n",
    "            Location[(i%/%6 +1)] = a[i]\n",
    "        } else{\n",
    "        if (i %% 6 == 3){\n",
    "            Death[(i%/%6)+1] = a[i]\n",
    "        } else{\n",
    "        if (i %% 6 == 4){\n",
    "            Injured[(i%/%6)+1] = a[i]\n",
    "        } else{\n",
    "        if (i %% 6 == 5){\n",
    "            Total[(i%/%6)+1] = a[i]\n",
    "        } else{\n",
    "            Des[(i%/%6)] = a[i]\n",
    "        } \n",
    "        }\n",
    "        }        \n",
    "        }\n",
    "        }        \n",
    "    }\n",
    "    Injured <- Injured %>% rm_between(.,\"[\",\"]\")\n",
    "    Death <- Death %>% rm_between(.,\"[\",\"]\")\n",
    "    Total <- Total %>% rm_between(.,\"[\",\"]\")\n",
    "    Des <- Des %>% rm_between(.,\"[\",\"]\")\n",
    "    Injured <- str_remove(Injured,\"[+]\")\n",
    "    Death <- Death %>% str_remove(.,\"[+]\")\n",
    "    Total <- Total %>% str_remove(.,\"[+]\")\n",
    "    df <-data.frame(Date = mdy(Date[1:n]))\n",
    "    df$Location <- Location[1:n] \n",
    "    df$Death <- as.integer(Death[1:n])\n",
    "    df$Injured <- as.integer(Injured[1:n])\n",
    "    df$Total <- as.integer(Total[1:n])\n",
    "    df$Description <- Des[1:n]\n",
    "    df_final <- df %>% filter(year(df$Date)==year)   \n",
    "    return(df_final)\n",
    "}\n",
    "\n",
    "\n",
    "    \n",
    "\n"
   ]
  },
  {
   "cell_type": "code",
   "execution_count": 3,
   "metadata": {},
   "outputs": [
    {
     "name": "stderr",
     "output_type": "stream",
     "text": [
      "Warning message:\n",
      "“ 5 failed to parse.”\n"
     ]
    }
   ],
   "source": [
    "# Writing files into csv\n",
    "year <- c(\"2018\",\"2019\",\"2020\")\n",
    "\n",
    "for(i in 1:nrow(as.matrix(year))){\n",
    "    data <- get_data(year[i])\n",
    "    write.csv (data,glue(\"{year[i]}.csv\"))   \n",
    "}\n"
   ]
  },
  {
   "cell_type": "code",
   "execution_count": null,
   "metadata": {},
   "outputs": [],
   "source": []
  }
 ],
 "metadata": {
  "kernelspec": {
   "display_name": "R",
   "language": "R",
   "name": "ir"
  },
  "language_info": {
   "codemirror_mode": "r",
   "file_extension": ".r",
   "mimetype": "text/x-r-source",
   "name": "R",
   "pygments_lexer": "r",
   "version": "4.0.2"
  }
 },
 "nbformat": 4,
 "nbformat_minor": 4
}
