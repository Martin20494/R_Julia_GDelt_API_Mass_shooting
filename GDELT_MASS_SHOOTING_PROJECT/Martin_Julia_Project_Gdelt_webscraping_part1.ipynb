{
 "cells": [
  {
   "cell_type": "markdown",
   "metadata": {},
   "source": [
    "### Packages"
   ]
  },
  {
   "cell_type": "code",
   "execution_count": 21,
   "metadata": {},
   "outputs": [],
   "source": [
    "using HTTP, DataFrames, CSV\n",
    "# HTTP for getting the url\n",
    "# DataFrames for using rename!()\n",
    "# CSV for extracting data csv format and pass it (under dataframe) to julia"
   ]
  },
  {
   "cell_type": "markdown",
   "metadata": {},
   "source": [
    "### Function to get data from API link"
   ]
  },
  {
   "cell_type": "code",
   "execution_count": 22,
   "metadata": {},
   "outputs": [
    {
     "data": {
      "text/plain": [
       "get_csv (generic function with 1 method)"
      ]
     },
     "execution_count": 22,
     "metadata": {},
     "output_type": "execute_result"
    }
   ],
   "source": [
    "# Source: https://blog.gdeltproject.org/gdelt-doc-2-0-api-debuts/\n",
    "#         https://juliadata.github.io/CSV.jl/stable/index.html\n",
    "#         https://discourse.julialang.org/t/replacing-missing-really/7952/8\n",
    "#         https://juliaweb.github.io/HTTP.jl/v0.6/\n",
    "#         https://github.com/JuliaData/CSV.jl/blob/3007529a8fcddf6553c46d10ed880ec1ced60e22/src/file.jl#L92-L173\n",
    "#         https://datatofish.com/import-csv-julia/\n",
    "\n",
    "# Getting csv file by passing in key words, mode (tone, volume, ...), range of time\n",
    "function get_csv(keyword, mode, country, starttime, endtime)\n",
    "    res = HTTP.get(\n",
    "        \"https://api.gdeltproject.org/api/v2/doc/doc?\";\n",
    "        query = [\n",
    "            \"format\" => \"csv\"\n",
    "            \"query\" => \"$keyword\"\n",
    "            \"mode\" => \"$mode\"\n",
    "            \"STARTDATETIME\" => \"$starttime\"\n",
    "            \"ENDDATETIME\"=> \"$endtime\"\n",
    "            \"query\" => \"sourcecountry:$country\"\n",
    "        ]\n",
    "    )\n",
    "    df = CSV.read(res.body, normalizenames=true)\n",
    "    return df\n",
    "end"
   ]
  },
  {
   "cell_type": "markdown",
   "metadata": {},
   "source": [
    "It seems to be highly similar to the function in R part. However, the biggest difference is that, I can add as many queries into the query list as I want in julia without worrying about it would be ignored."
   ]
  },
  {
   "cell_type": "markdown",
   "metadata": {},
   "source": [
    "### Function to pass dataframes into variables, write into real csv files, and store them in a folder"
   ]
  },
  {
   "cell_type": "code",
   "execution_count": 23,
   "metadata": {},
   "outputs": [
    {
     "data": {
      "text/plain": [
       "produce_csv (generic function with 1 method)"
      ]
     },
     "execution_count": 23,
     "metadata": {},
     "output_type": "execute_result"
    }
   ],
   "source": [
    "#Source: https://en.wikibooks.org/wiki/Introducing_Julia/DataFrames\n",
    "#        http://sashankexpresstech.blogspot.com/2017/09/julia-language-dataframes-renaming.html\n",
    "#        https://docs.julialang.org/en/v1/base/file/#Base.Filesystem.mkdir\n",
    "\n",
    "\n",
    "# Creating a function to pass dataframes into variables and write into csv files \n",
    "# It includes (average tone, volume intensity) from 2018 to 2020 in US\n",
    "function produce_csv(keyword, path)\n",
    "\n",
    "    #Creating a folder\n",
    "    new_name=keyword*\" part1\"\n",
    "    mkdir(new_name)\n",
    "    cd(\"$path/$new_name\")\n",
    "    \n",
    "    #Getting csv for AVERAGE TONE\n",
    "    average_tone = get_csv(keyword, \"timelinetone\", \"US\", \"20180101000000\", \"20201009230000\")\n",
    "    rename!(average_tone, Dict(:Value => :Average_tone))\n",
    "    select!(average_tone, Not(:2))\n",
    "    CSV.write(\"average_tone.csv\", average_tone)\n",
    "    \n",
    "    \n",
    "    #Volume Intensity\n",
    "    volume_intensity = get_csv(keyword, \"timelinevolinfo\", \"US\", \"20180101000000\", \"20201009230000\")\n",
    "    rename!(volume_intensity, Dict(:Value => :Volume_intensity))\n",
    "    select!(volume_intensity, Not(:2))\n",
    "    CSV.write(\"volume_intensity.csv\", volume_intensity)\n",
    "    \n",
    "    #Still return a list of above dataframes (even though saved into csv already) in case of checking\n",
    "    return [average_tone, volume_intensity]\n",
    "    \n",
    "end"
   ]
  },
  {
   "cell_type": "markdown",
   "metadata": {},
   "source": [
    "This part and the part below were also highly similar to R part. However, in this case, we added some code (rename!()) to rename the column name, and some code (select!()) to drop some unneccesary column. After the code being run, the missing values would also be checked."
   ]
  },
  {
   "cell_type": "markdown",
   "metadata": {},
   "source": [
    "### Callling the functions"
   ]
  },
  {
   "cell_type": "code",
   "execution_count": 25,
   "metadata": {},
   "outputs": [
    {
     "data": {
      "text/plain": [
       "2-element Array{DataFrame,1}:\n",
       " 1013×2 DataFrame\n",
       "│ Row  │ Date       │ Average_tone │\n",
       "│      │ \u001b[90mDates.Date\u001b[39m │ \u001b[90mFloat64\u001b[39m      │\n",
       "├──────┼────────────┼──────────────┤\n",
       "│ 1    │ 2018-01-01 │ -1.3387      │\n",
       "│ 2    │ 2018-01-02 │ -1.1674      │\n",
       "│ 3    │ 2018-01-03 │ -1.1686      │\n",
       "│ 4    │ 2018-01-04 │ -1.2542      │\n",
       "│ 5    │ 2018-01-05 │ -1.3367      │\n",
       "│ 6    │ 2018-01-06 │ -1.1259      │\n",
       "│ 7    │ 2018-01-07 │ -0.8556      │\n",
       "│ 8    │ 2018-01-08 │ -0.5482      │\n",
       "│ 9    │ 2018-01-09 │ -0.9509      │\n",
       "│ 10   │ 2018-01-10 │ -0.8889      │\n",
       "⋮\n",
       "│ 1003 │ 2020-09-29 │ -0.8743      │\n",
       "│ 1004 │ 2020-09-30 │ -1.008       │\n",
       "│ 1005 │ 2020-10-01 │ -0.9014      │\n",
       "│ 1006 │ 2020-10-02 │ -1.198       │\n",
       "│ 1007 │ 2020-10-03 │ -1.3302      │\n",
       "│ 1008 │ 2020-10-04 │ -1.2722      │\n",
       "│ 1009 │ 2020-10-05 │ -0.6732      │\n",
       "│ 1010 │ 2020-10-06 │ -0.9329      │\n",
       "│ 1011 │ 2020-10-07 │ -0.8615      │\n",
       "│ 1012 │ 2020-10-08 │ -0.9183      │\n",
       "│ 1013 │ 2020-10-09 │ -1.2604      │\n",
       " 1013×22 DataFrame. Omitted printing of 20 columns\n",
       "│ Row  │ Date       │ Volume_intensity │\n",
       "│      │ \u001b[90mDates.Date\u001b[39m │ \u001b[90mFloat64\u001b[39m          │\n",
       "├──────┼────────────┼──────────────────┤\n",
       "│ 1    │ 2018-01-01 │ 19.5725          │\n",
       "│ 2    │ 2018-01-02 │ 23.6902          │\n",
       "│ 3    │ 2018-01-03 │ 25.3264          │\n",
       "│ 4    │ 2018-01-04 │ 26.9467          │\n",
       "│ 5    │ 2018-01-05 │ 25.197           │\n",
       "│ 6    │ 2018-01-06 │ 21.1337          │\n",
       "│ 7    │ 2018-01-07 │ 18.0394          │\n",
       "│ 8    │ 2018-01-08 │ 22.0782          │\n",
       "│ 9    │ 2018-01-09 │ 22.8405          │\n",
       "│ 10   │ 2018-01-10 │ 23.8993          │\n",
       "⋮\n",
       "│ 1003 │ 2020-09-29 │ 22.9785          │\n",
       "│ 1004 │ 2020-09-30 │ 23.6393          │\n",
       "│ 1005 │ 2020-10-01 │ 24.2944          │\n",
       "│ 1006 │ 2020-10-02 │ 24.5164          │\n",
       "│ 1007 │ 2020-10-03 │ 17.7262          │\n",
       "│ 1008 │ 2020-10-04 │ 16.2658          │\n",
       "│ 1009 │ 2020-10-05 │ 21.3184          │\n",
       "│ 1010 │ 2020-10-06 │ 22.3409          │\n",
       "│ 1011 │ 2020-10-07 │ 21.4957          │\n",
       "│ 1012 │ 2020-10-08 │ 23.1916          │\n",
       "│ 1013 │ 2020-10-09 │ 28.439           │"
      ]
     },
     "execution_count": 25,
     "metadata": {},
     "output_type": "execute_result"
    }
   ],
   "source": [
    "# Getting the directory to produce the csv file\n",
    "cd(\"/Users/thongnguyen/Desktop/UCcourses/DATA422-Data Wrangling/Group project/Project data\")\n",
    "\n",
    "# Getting all csv dataframes (average tone, and volume intensity) - keyword (Mass shooting)\n",
    "mass_shooting = produce_csv(\"mass shooting\", pwd())"
   ]
  },
  {
   "cell_type": "code",
   "execution_count": 26,
   "metadata": {},
   "outputs": [
    {
     "data": {
      "text/plain": [
       "false"
      ]
     },
     "execution_count": 26,
     "metadata": {},
     "output_type": "execute_result"
    }
   ],
   "source": [
    "# Checking missing values\n",
    "ismissing(mass_shooting)"
   ]
  },
  {
   "cell_type": "markdown",
   "metadata": {},
   "source": [
    "False means there was no missing values in the dataset"
   ]
  },
  {
   "cell_type": "code",
   "execution_count": 27,
   "metadata": {},
   "outputs": [
    {
     "data": {
      "text/plain": [
       "2-element Array{DataFrame,1}:\n",
       " 1013×2 DataFrame\n",
       "│ Row  │ Date       │ Average_tone │\n",
       "│      │ \u001b[90mDates.Date\u001b[39m │ \u001b[90mFloat64\u001b[39m      │\n",
       "├──────┼────────────┼──────────────┤\n",
       "│ 1    │ 2018-01-01 │ -1.3387      │\n",
       "│ 2    │ 2018-01-02 │ -1.1674      │\n",
       "│ 3    │ 2018-01-03 │ -1.1686      │\n",
       "│ 4    │ 2018-01-04 │ -1.2542      │\n",
       "│ 5    │ 2018-01-05 │ -1.3367      │\n",
       "│ 6    │ 2018-01-06 │ -1.1259      │\n",
       "│ 7    │ 2018-01-07 │ -0.8556      │\n",
       "│ 8    │ 2018-01-08 │ -0.5482      │\n",
       "│ 9    │ 2018-01-09 │ -0.9509      │\n",
       "│ 10   │ 2018-01-10 │ -0.8889      │\n",
       "⋮\n",
       "│ 1003 │ 2020-09-29 │ -0.8743      │\n",
       "│ 1004 │ 2020-09-30 │ -1.008       │\n",
       "│ 1005 │ 2020-10-01 │ -0.9014      │\n",
       "│ 1006 │ 2020-10-02 │ -1.198       │\n",
       "│ 1007 │ 2020-10-03 │ -1.3302      │\n",
       "│ 1008 │ 2020-10-04 │ -1.2722      │\n",
       "│ 1009 │ 2020-10-05 │ -0.6732      │\n",
       "│ 1010 │ 2020-10-06 │ -0.9329      │\n",
       "│ 1011 │ 2020-10-07 │ -0.8615      │\n",
       "│ 1012 │ 2020-10-08 │ -0.9183      │\n",
       "│ 1013 │ 2020-10-09 │ -1.2604      │\n",
       " 1013×22 DataFrame. Omitted printing of 20 columns\n",
       "│ Row  │ Date       │ Volume_intensity │\n",
       "│      │ \u001b[90mDates.Date\u001b[39m │ \u001b[90mFloat64\u001b[39m          │\n",
       "├──────┼────────────┼──────────────────┤\n",
       "│ 1    │ 2018-01-01 │ 19.5725          │\n",
       "│ 2    │ 2018-01-02 │ 23.6902          │\n",
       "│ 3    │ 2018-01-03 │ 25.3264          │\n",
       "│ 4    │ 2018-01-04 │ 26.9467          │\n",
       "│ 5    │ 2018-01-05 │ 25.197           │\n",
       "│ 6    │ 2018-01-06 │ 21.1337          │\n",
       "│ 7    │ 2018-01-07 │ 18.0394          │\n",
       "│ 8    │ 2018-01-08 │ 22.0782          │\n",
       "│ 9    │ 2018-01-09 │ 22.8405          │\n",
       "│ 10   │ 2018-01-10 │ 23.8993          │\n",
       "⋮\n",
       "│ 1003 │ 2020-09-29 │ 22.9785          │\n",
       "│ 1004 │ 2020-09-30 │ 23.6393          │\n",
       "│ 1005 │ 2020-10-01 │ 24.2944          │\n",
       "│ 1006 │ 2020-10-02 │ 24.5164          │\n",
       "│ 1007 │ 2020-10-03 │ 17.7262          │\n",
       "│ 1008 │ 2020-10-04 │ 16.2658          │\n",
       "│ 1009 │ 2020-10-05 │ 21.3184          │\n",
       "│ 1010 │ 2020-10-06 │ 22.3409          │\n",
       "│ 1011 │ 2020-10-07 │ 21.4957          │\n",
       "│ 1012 │ 2020-10-08 │ 23.1916          │\n",
       "│ 1013 │ 2020-10-09 │ 28.439           │"
      ]
     },
     "execution_count": 27,
     "metadata": {},
     "output_type": "execute_result"
    }
   ],
   "source": [
    "mass_shooting"
   ]
  },
  {
   "cell_type": "code",
   "execution_count": null,
   "metadata": {},
   "outputs": [],
   "source": []
  }
 ],
 "metadata": {
  "kernelspec": {
   "display_name": "Julia 1.4.2",
   "language": "julia",
   "name": "julia-1.4"
  },
  "language_info": {
   "file_extension": ".jl",
   "mimetype": "application/julia",
   "name": "julia",
   "version": "1.4.2"
  }
 },
 "nbformat": 4,
 "nbformat_minor": 4
}
